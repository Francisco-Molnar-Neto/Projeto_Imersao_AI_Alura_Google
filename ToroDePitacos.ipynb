{
  "nbformat": 4,
  "nbformat_minor": 0,
  "metadata": {
    "colab": {
      "provenance": [],
      "toc_visible": true,
      "authorship_tag": "ABX9TyNSyL3M3mwweT99jpELa3by",
      "include_colab_link": true
    },
    "kernelspec": {
      "name": "python3",
      "display_name": "Python 3"
    },
    "language_info": {
      "name": "python"
    }
  },
  "cells": [
    {
      "cell_type": "markdown",
      "metadata": {
        "id": "view-in-github",
        "colab_type": "text"
      },
      "source": [
        "<a href=\"https://colab.research.google.com/github/Francisco-Molnar-Neto/Projeto_Imersao_AI_Alura_Google/blob/main/ToroDePitacos.ipynb\" target=\"_parent\"><img src=\"https://colab.research.google.com/assets/colab-badge.svg\" alt=\"Open In Colab\"/></a>"
      ]
    },
    {
      "cell_type": "markdown",
      "source": [
        "# Apresentação do Projeto"
      ],
      "metadata": {
        "id": "UDZc7k9QcMRC"
      }
    },
    {
      "cell_type": "markdown",
      "source": [
        "BRAINSTORMING-CHAT\n",
        "\n",
        "\n",
        "Um Chat para a interação com mais de uma pessoa além de um Moderador e de dois Convidados Especiais.\n",
        "\n",
        "Os dois Convidados Especiais são:\n",
        "\n",
        "AI_P , uma instância do Gemini com uma persona \"Propositiva\", que dá sugestões e ideias para a solução do problema apresentado pelo Moderador.\n",
        "\n",
        "AI_I . uma instância do Gemini com uma persona \"Inquisidora\", que faz questionamento que vão em sentido contrário às sugestões apresentadas por todos os participantes.\n",
        "\n",
        "\n",
        "\n",
        "RESUMINDO\n",
        "\n",
        "Um Chat em um túnel de comunicação onde os participantes são convidados a discutir um problema ou um tema aplicável a uma empresa ou a uma pesquisa ou em uma sala de aula de uma escola/faculdade.\n",
        "\n",
        "Este Brainstroming-Chat conta sempre com a partição de dois convidados especiais:\n",
        "\n",
        "AI_P : Um participante AI-Gemini com persona Propositiva\n",
        "\n",
        "AI_I : Um participante AI-Gemini com persona Inquisidora\n",
        "\n",
        "Ambos querem contribuir com o debate, mas o AI_I fomenta os participantes a repensar suas opiniões.\n"
      ],
      "metadata": {
        "id": "eK8SVkIfdHNX"
      }
    },
    {
      "cell_type": "markdown",
      "source": [
        "# Exemplos de Aplicação"
      ],
      "metadata": {
        "id": "LolMO-cBjMt1"
      }
    },
    {
      "cell_type": "markdown",
      "source": [
        "* BRAINSTORMING\n",
        "\n",
        "  - para como melhorar os resultados da empresa\n",
        "\n",
        "  - para lançar novos produtos\n",
        "\n",
        "  - para reparar falhas em um produto ou processo\n",
        "\n",
        "* PESQUISA DE OPINIÃO\n",
        "\n",
        "  - de novos produtos ou serviços, o que o consumidor quer?\n",
        "\n",
        "  - o que o consumidor acha importante?\n",
        "\n",
        "  - o que o consumidor não quer de jeito nenhum?\n",
        "\n",
        "* DEBATES\n",
        "\n",
        "  - Em salas de aula de todos os níveis\n",
        "\n",
        "  - Para trabalhos em grupo\n",
        "\n",
        "  - Para pesquisas acadêmicas\n",
        "\n"
      ],
      "metadata": {
        "id": "gsAhM4KukhWM"
      }
    },
    {
      "cell_type": "markdown",
      "source": [
        "# Funcionamento"
      ],
      "metadata": {
        "id": "zkvd47-2rjiV"
      }
    },
    {
      "cell_type": "markdown",
      "source": [
        "É um Chat, assim como o do Youtube, mas além de aparecer o seu nome e o seu texto, você pode enviar documentos.\n",
        "\n",
        "\n",
        "Esse Chat é público, está em um túnel de comunicação e os participantes entram em um determinado link na web.\n",
        "\n",
        "\n",
        "O Moderador pode ser o Chefe de um setor da empresa, um Pesquisador ou um Professor, sua função é enviar o link para os participantes e também participar do Chat, apresentando o problema ou o tema que será abordado, ele interage normalmente como qualquer outro participante, mas os dois \"Convidados Especiais\" o reconhecem como o Moderador e solicitador da discussão e somente ele pode finalizar o chat em andamento.\n",
        "\n",
        "\n",
        "Após a entrada do Moderador no Chat, o chat é iniciado propriamente dito. Na sequência os convidados especiais entram automaticamente, o AI_P (Paula ou Paulo) com nomes quaisquer para não serem identificados pelos demais participantes; e também o AI_I (Ivan ou Isis ou outro nome qualquer)\n",
        "\n",
        "\n",
        "AI_P é uma instância do Gemini com persona POSITIVISTA, que procura concordar com os demais participantes e apresenta ideias propositivas para o debate.\n",
        "\n",
        "\n",
        "AI_I é outra instância do Gemini com persona INQUISIDORA, que procura contrariar os demais participantes e apresenta ideias alternativas ou demonstra as falhas ou defeitos das ideias dos outros. Isso para instigar o grupo a repensar suas opiniões.\n",
        "\n",
        "\n",
        "Ambos querem ajudar na construção do debate.\n",
        "\n",
        "\n",
        "Os participantes podem interagir escrevendo no chat ou anexando documentos.\n",
        "Os participantes também devem refutar ou concordar com o que foi dito por outro participante ou sobre o conteúdo do documento anexado pelos outros participantes.\n",
        "O mesmo acontecerá com os Convidados Especiais: AI_P e AI_I\n",
        "\n",
        "\n",
        "O Moderador além de participar normalmente, também é aconselhável anexar vários documentos que melhor explicitem as questões da discussão e para que os convidados especiais saibam melhor do que se trata o problema em debate.\n",
        "\n",
        "\n",
        "O Chat tem que manter o HISTORY de todos os participantes e os EMBEDDINGS de todos os documentos anexados no Chat.\n",
        "\n",
        "\n",
        "Os Convidados Especiais devem estar atentos aos comentários feitos nos chats, saber identificar os participantes e ter foco nos documentos anexados, podendo procurar outras referências no universo de AI do Gemini.\n",
        "\n",
        "\n",
        "Os documentos a serem anexados por qualquer participante podem ser:\n",
        "\n",
        "   - Relatórios no formato de texto, planilhas ou imagens de todas as áreas da empresa.\n",
        "\n",
        "   - Textos ou imagens dos consumidores participantes de pesquisa\n",
        "\n",
        "   - Textos ou imagens, redações ou desenhos de alunos das escolas em sala de aula.\n",
        "\n",
        "\n",
        "IMPORTANTE: Tomar cuidado para que os dois Convidados Especiais não fiquem debatendo entre si eternamente !!!!!  kkkkkkkkkkkkkkkk\n"
      ],
      "metadata": {
        "id": "uZ64Sp_LrqL7"
      }
    },
    {
      "cell_type": "markdown",
      "source": [
        "# Autor"
      ],
      "metadata": {
        "id": "xEJvFo3L4VHR"
      }
    },
    {
      "cell_type": "markdown",
      "source": [
        "Francisco Molnar Neto\n",
        "\n",
        "56 anos de idade\n",
        "\n",
        "25 anos atuando com:\n",
        "\n",
        "  * Data_Wharehouse\n",
        "  \n",
        "  * Business_Intelligence\n",
        "  \n",
        "  * Data_Analytics\n",
        "\n",
        "nas áreas de:\n",
        "\n",
        "  * Finanças\n",
        "  \n",
        "  * Investimentos\n",
        "\n",
        "Empresa: Rede S/A - Grupo Itaú S/A\n",
        "Atualmente: Procurando Oportunidade"
      ],
      "metadata": {
        "id": "1iOc6opM4bW_"
      }
    },
    {
      "cell_type": "markdown",
      "source": [
        "# Codificação"
      ],
      "metadata": {
        "id": "P4hJ8NKNixX9"
      }
    },
    {
      "cell_type": "markdown",
      "source": [
        "Instalando o SDK do Google"
      ],
      "metadata": {
        "id": "NNAyS8QxFxrG"
      }
    },
    {
      "cell_type": "code",
      "execution_count": null,
      "metadata": {
        "id": "w9ZQNg8n7NL_"
      },
      "outputs": [],
      "source": [
        "!pip install -q -U google-generativeai\n",
        "!pip install -q -U flet\n",
        "!pip install -q -U pyngrok\n",
        "!pip install -q -U async"
      ]
    },
    {
      "cell_type": "code",
      "source": [
        "# Import the Python SDK\n",
        "import google.generativeai as genai\n",
        "# Used to securely store your API key\n",
        "from google.colab import userdata\n",
        "\n",
        "MY_GOOGLE_API_KEY=userdata.get('MY_SECRET_GOOGLE_API_KEY')\n",
        "\n",
        "genai.configure(api_key=MY_GOOGLE_API_KEY)\n",
        "\n",
        "from pyngrok import ngrok\n",
        "import flet as ft\n",
        "import asyncio"
      ],
      "metadata": {
        "id": "LoGYAkq-GUhv"
      },
      "execution_count": 3,
      "outputs": []
    },
    {
      "cell_type": "markdown",
      "source": [
        "Listar os Modelos disponíveis"
      ],
      "metadata": {
        "id": "MuqPji8SGkHY"
      }
    },
    {
      "cell_type": "code",
      "source": [
        "for m in genai.list_models():\n",
        "  if 'generateContent' in m.supported_generation_methods:\n",
        "    print(m.name)"
      ],
      "metadata": {
        "colab": {
          "base_uri": "https://localhost:8080/",
          "height": 138
        },
        "id": "lajsp_piGVhc",
        "outputId": "45831d51-5a18-4828-94cb-c8053d402b20"
      },
      "execution_count": 4,
      "outputs": [
        {
          "output_type": "stream",
          "name": "stdout",
          "text": [
            "models/gemini-1.0-pro\n",
            "models/gemini-1.0-pro-001\n",
            "models/gemini-1.0-pro-latest\n",
            "models/gemini-1.0-pro-vision-latest\n",
            "models/gemini-1.5-pro-latest\n",
            "models/gemini-pro\n",
            "models/gemini-pro-vision\n"
          ]
        }
      ]
    },
    {
      "cell_type": "code",
      "source": [
        "generation_config = {\n",
        "    \"candidate_count\":1,\n",
        "    \"temperature\":0.5,\n",
        "}"
      ],
      "metadata": {
        "id": "wMGe9RMJLXpx"
      },
      "execution_count": 5,
      "outputs": []
    },
    {
      "cell_type": "code",
      "source": [
        "safety_settings = {\n",
        "    \"HARASSMENT\": \"BLOCK_NONE\",\n",
        "    \"HATE\": \"BLOCK_NONE\",\n",
        "    \"SEXUAL\": \"BLOCK_NONE\",\n",
        "    \"DANGEROUS\": \"BLOCK_NONE\",\n",
        "}"
      ],
      "metadata": {
        "id": "_iO-EX2IMJNA"
      },
      "execution_count": 6,
      "outputs": []
    },
    {
      "cell_type": "markdown",
      "source": [
        "Inicializando o Modelo"
      ],
      "metadata": {
        "id": "VvbiQXJfN19o"
      }
    },
    {
      "cell_type": "code",
      "source": [
        "model = genai.GenerativeModel(model_name=\"gemini-1.0-pro\",\n",
        "                              generation_config=generation_config,\n",
        "                              safety_settings=safety_settings)"
      ],
      "metadata": {
        "id": "0KKj2o0CN_SO"
      },
      "execution_count": 7,
      "outputs": []
    },
    {
      "cell_type": "code",
      "source": [
        "chat = model.start_chat(history=[])"
      ],
      "metadata": {
        "id": "dMZZQNVdSfTV"
      },
      "execution_count": null,
      "outputs": []
    },
    {
      "cell_type": "code",
      "source": [
        "prompt = input(\"Esperando prompt: \")\n",
        "while prompt != \"fim\":\n",
        "  response = chat.send_message(prompt)\n",
        "  print(\"Resposta: \", response.text, \"\\n\")\n",
        "  prompt = input(\"Esperando prompt: \")"
      ],
      "metadata": {
        "colab": {
          "base_uri": "https://localhost:8080/"
        },
        "id": "KhXtKpZjRVUD",
        "outputId": "46958df9-62fc-4c51-d113-2384fd3928ad"
      },
      "execution_count": 9,
      "outputs": [
        {
          "name": "stdout",
          "output_type": "stream",
          "text": [
            "Esperando prompt: fim\n"
          ]
        }
      ]
    },
    {
      "cell_type": "markdown",
      "source": [
        "Abrir um Chat em uma URL Púlica\n",
        "para a discusão em grupo junto\n",
        "com 2 instâncias do Gemini\n",
        "como sendo duas pessoas convidadas ao debate,\n",
        "uma com ideias propositivas e outra questionadora e inquisidora\n",
        "de todas as ideias de todos os participantes."
      ],
      "metadata": {
        "id": "RB6P5ifhavNM"
      }
    },
    {
      "cell_type": "code",
      "source": [
        "# Check if there is an existing event loop\n",
        "# if asyncio.get_event_loop().is_running():\n",
        "#    raise RuntimeError(\"Cannot start a new event loop within an existing one.\")\n",
        "# Check if there is an existing event loop\n",
        "if not asyncio.get_event_loop().is_running():\n",
        "    # Create a new event loop\n",
        "    loop = asyncio.new_event_loop()\n",
        "    asyncio.set_event_loop(loop)\n",
        "\n",
        "async def main(pagina):\n",
        "    texto = ft.Text(\"Hashzap\")\n",
        "\n",
        "    chat = ft.Column()\n",
        "\n",
        "    nome_usuario = ft.TextField(label=\"Escreva seu nome\")\n",
        "\n",
        "    def enviar_mensagem_tunel(mensagem):\n",
        "        tipo = mensagem[\"tipo\"]\n",
        "        if tipo == \"mensagem\":\n",
        "            texto_mensagem = mensagem[\"texto\"]\n",
        "            usuario_mensagem = mensagem[\"usuario\"]\n",
        "            # adicionar a mensagem no chat\n",
        "            chat.controls.append(ft.Text(f\"{usuario_mensagem}: {texto_mensagem}\"))\n",
        "        else:\n",
        "            usuario_mensagem = mensagem[\"usuario\"]\n",
        "            chat.controls.append(ft.Text(f\"{usuario_mensagem} entrou no chat\",\n",
        "                                         size=12, italic=True, color=ft.colors.ORANGE_500))\n",
        "        pagina.update()\n",
        "\n",
        "    pagina.pubsub.subscribe(enviar_mensagem_tunel)\n",
        "\n",
        "    def enviar_mensagem(evento):\n",
        "        pagina.pubsub.send_all({\"texto\": campo_mensagem.value, \"usuario\": nome_usuario.value,\n",
        "                                \"tipo\": \"mensagem\"})\n",
        "        # limpar o campo de mensagem\n",
        "        campo_mensagem.value = \"\"\n",
        "        pagina.update()\n",
        "\n",
        "    campo_mensagem = ft.TextField(label=\"Digite uma mensagem\", on_submit=enviar_mensagem)\n",
        "    botao_enviar_mensagem = ft.ElevatedButton(\"Enviar\", on_click=enviar_mensagem)\n",
        "\n",
        "    def entrar_popup(evento):\n",
        "        pagina.pubsub.send_all({\"usuario\": nome_usuario.value, \"tipo\": \"entrada\"})\n",
        "        # adicionar o chat\n",
        "        pagina.add(chat)\n",
        "        # fechar o popup\n",
        "        popup.open = False\n",
        "        # remover o botao iniciar chat\n",
        "        pagina.remove(botao_iniciar)\n",
        "        pagina.remove(texto)\n",
        "        # criar o campo de mensagem do usuario\n",
        "        # criar o botao de enviar mensagem do usuario\n",
        "        pagina.add(ft.Row(\n",
        "            [campo_mensagem, botao_enviar_mensagem]\n",
        "        ))\n",
        "        pagina.update()\n",
        "\n",
        "    popup = ft.AlertDialog(\n",
        "        open=False,\n",
        "        modal=True,\n",
        "        title=ft.Text(\"Bem vindo ao Hashzap\"),\n",
        "        content=nome_usuario,\n",
        "        actions=[ft.ElevatedButton(\"Entrar\", on_click=entrar_popup)],\n",
        "        )\n",
        "\n",
        "    def entrar_chat(evento):\n",
        "        pagina.dialog = popup\n",
        "        popup.open = True\n",
        "        pagina.update()\n",
        "\n",
        "    botao_iniciar = ft.ElevatedButton(\"Iniciar chat\", on_click=entrar_chat)\n",
        "\n",
        "    pagina.add(texto)\n",
        "    pagina.add(botao_iniciar)\n",
        "\n",
        "# Inicie o aplicativo Flet na porta 8501\n",
        "# async def start_flet_app():\n",
        "#    asyncio.ensure_future(ft.app(target=main, view=ft.WEB_BROWSER, port=8501))\n",
        "# Use asyncio.run to start the Flet app and the ngrok tunnel\n",
        "async def start_flet_app():\n",
        "  asyncio.run(start_flet_app())\n",
        "\n",
        "# Start the Flet app in a separate task\n",
        "# asyncio.create_task(start_flet_app())\n",
        "\n",
        "# Create a public tunnel with ngrok\n",
        "public_url = ngrok.connect(8501).public_url\n",
        "\n",
        "\n",
        "# Exiba a URL pública\n",
        "print(f\" * Running on {public_url}\")"
      ],
      "metadata": {
        "colab": {
          "base_uri": "https://localhost:8080/",
          "height": 463
        },
        "id": "V5hNz_nhaaQI",
        "outputId": "47dd4db7-c278-4f95-a35d-e7f41eb1e17f"
      },
      "execution_count": 10,
      "outputs": [
        {
          "output_type": "stream",
          "name": "stdout",
          "text": []
        },
        {
          "output_type": "stream",
          "name": "stderr",
          "text": [
            "ERROR:pyngrok.process.ngrok:t=2024-05-11T16:19:09+0000 lvl=eror msg=\"failed to reconnect session\" obj=tunnels.session err=\"authentication failed: Usage of ngrok requires a verified account and authtoken.\\n\\nSign up for an account: https://dashboard.ngrok.com/signup\\nInstall your authtoken: https://dashboard.ngrok.com/get-started/your-authtoken\\r\\n\\r\\nERR_NGROK_4018\\r\\n\"\n",
            "ERROR:pyngrok.process.ngrok:t=2024-05-11T16:19:09+0000 lvl=eror msg=\"session closing\" obj=tunnels.session err=\"authentication failed: Usage of ngrok requires a verified account and authtoken.\\n\\nSign up for an account: https://dashboard.ngrok.com/signup\\nInstall your authtoken: https://dashboard.ngrok.com/get-started/your-authtoken\\r\\n\\r\\nERR_NGROK_4018\\r\\n\"\n",
            "ERROR:pyngrok.process.ngrok:t=2024-05-11T16:19:09+0000 lvl=eror msg=\"terminating with error\" obj=app err=\"authentication failed: Usage of ngrok requires a verified account and authtoken.\\n\\nSign up for an account: https://dashboard.ngrok.com/signup\\nInstall your authtoken: https://dashboard.ngrok.com/get-started/your-authtoken\\r\\n\\r\\nERR_NGROK_4018\\r\\n\"\n",
            "CRITICAL:pyngrok.process.ngrok:t=2024-05-11T16:19:09+0000 lvl=crit msg=\"command failed\" err=\"authentication failed: Usage of ngrok requires a verified account and authtoken.\\n\\nSign up for an account: https://dashboard.ngrok.com/signup\\nInstall your authtoken: https://dashboard.ngrok.com/get-started/your-authtoken\\r\\n\\r\\nERR_NGROK_4018\\r\\n\"\n"
          ]
        },
        {
          "output_type": "error",
          "ename": "PyngrokNgrokError",
          "evalue": "The ngrok process errored on start: authentication failed: Usage of ngrok requires a verified account and authtoken.\\n\\nSign up for an account: https://dashboard.ngrok.com/signup\\nInstall your authtoken: https://dashboard.ngrok.com/get-started/your-authtoken\\r\\n\\r\\nERR_NGROK_4018\\r\\n.",
          "traceback": [
            "\u001b[0;31m---------------------------------------------------------------------------\u001b[0m",
            "\u001b[0;31mPyngrokNgrokError\u001b[0m                         Traceback (most recent call last)",
            "\u001b[0;32m<ipython-input-10-7352b0cd34d5>\u001b[0m in \u001b[0;36m<cell line: 87>\u001b[0;34m()\u001b[0m\n\u001b[1;32m     85\u001b[0m \u001b[0;34m\u001b[0m\u001b[0m\n\u001b[1;32m     86\u001b[0m \u001b[0;31m# Create a public tunnel with ngrok\u001b[0m\u001b[0;34m\u001b[0m\u001b[0;34m\u001b[0m\u001b[0m\n\u001b[0;32m---> 87\u001b[0;31m \u001b[0mpublic_url\u001b[0m \u001b[0;34m=\u001b[0m \u001b[0mngrok\u001b[0m\u001b[0;34m.\u001b[0m\u001b[0mconnect\u001b[0m\u001b[0;34m(\u001b[0m\u001b[0;36m8501\u001b[0m\u001b[0;34m)\u001b[0m\u001b[0;34m.\u001b[0m\u001b[0mpublic_url\u001b[0m\u001b[0;34m\u001b[0m\u001b[0;34m\u001b[0m\u001b[0m\n\u001b[0m\u001b[1;32m     88\u001b[0m \u001b[0;34m\u001b[0m\u001b[0m\n\u001b[1;32m     89\u001b[0m \u001b[0;34m\u001b[0m\u001b[0m\n",
            "\u001b[0;32m/usr/local/lib/python3.10/dist-packages/pyngrok/ngrok.py\u001b[0m in \u001b[0;36mconnect\u001b[0;34m(addr, proto, name, pyngrok_config, **options)\u001b[0m\n\u001b[1;32m    314\u001b[0m             \u001b[0moptions\u001b[0m\u001b[0;34m.\u001b[0m\u001b[0mpop\u001b[0m\u001b[0;34m(\u001b[0m\u001b[0;34m\"auth\"\u001b[0m\u001b[0;34m)\u001b[0m\u001b[0;34m\u001b[0m\u001b[0;34m\u001b[0m\u001b[0m\n\u001b[1;32m    315\u001b[0m \u001b[0;34m\u001b[0m\u001b[0m\n\u001b[0;32m--> 316\u001b[0;31m     \u001b[0mapi_url\u001b[0m \u001b[0;34m=\u001b[0m \u001b[0mget_ngrok_process\u001b[0m\u001b[0;34m(\u001b[0m\u001b[0mpyngrok_config\u001b[0m\u001b[0;34m)\u001b[0m\u001b[0;34m.\u001b[0m\u001b[0mapi_url\u001b[0m\u001b[0;34m\u001b[0m\u001b[0;34m\u001b[0m\u001b[0m\n\u001b[0m\u001b[1;32m    317\u001b[0m \u001b[0;34m\u001b[0m\u001b[0m\n\u001b[1;32m    318\u001b[0m     \u001b[0mlogger\u001b[0m\u001b[0;34m.\u001b[0m\u001b[0mdebug\u001b[0m\u001b[0;34m(\u001b[0m\u001b[0;34mf\"Creating tunnel with options: {options}\"\u001b[0m\u001b[0;34m)\u001b[0m\u001b[0;34m\u001b[0m\u001b[0;34m\u001b[0m\u001b[0m\n",
            "\u001b[0;32m/usr/local/lib/python3.10/dist-packages/pyngrok/ngrok.py\u001b[0m in \u001b[0;36mget_ngrok_process\u001b[0;34m(pyngrok_config)\u001b[0m\n\u001b[1;32m    154\u001b[0m     \u001b[0minstall_ngrok\u001b[0m\u001b[0;34m(\u001b[0m\u001b[0mpyngrok_config\u001b[0m\u001b[0;34m)\u001b[0m\u001b[0;34m\u001b[0m\u001b[0;34m\u001b[0m\u001b[0m\n\u001b[1;32m    155\u001b[0m \u001b[0;34m\u001b[0m\u001b[0m\n\u001b[0;32m--> 156\u001b[0;31m     \u001b[0;32mreturn\u001b[0m \u001b[0mprocess\u001b[0m\u001b[0;34m.\u001b[0m\u001b[0mget_process\u001b[0m\u001b[0;34m(\u001b[0m\u001b[0mpyngrok_config\u001b[0m\u001b[0;34m)\u001b[0m\u001b[0;34m\u001b[0m\u001b[0;34m\u001b[0m\u001b[0m\n\u001b[0m\u001b[1;32m    157\u001b[0m \u001b[0;34m\u001b[0m\u001b[0m\n\u001b[1;32m    158\u001b[0m \u001b[0;34m\u001b[0m\u001b[0m\n",
            "\u001b[0;32m/usr/local/lib/python3.10/dist-packages/pyngrok/process.py\u001b[0m in \u001b[0;36mget_process\u001b[0;34m(pyngrok_config)\u001b[0m\n\u001b[1;32m    233\u001b[0m         \u001b[0;32mreturn\u001b[0m \u001b[0m_current_processes\u001b[0m\u001b[0;34m[\u001b[0m\u001b[0mpyngrok_config\u001b[0m\u001b[0;34m.\u001b[0m\u001b[0mngrok_path\u001b[0m\u001b[0;34m]\u001b[0m\u001b[0;34m\u001b[0m\u001b[0;34m\u001b[0m\u001b[0m\n\u001b[1;32m    234\u001b[0m \u001b[0;34m\u001b[0m\u001b[0m\n\u001b[0;32m--> 235\u001b[0;31m     \u001b[0;32mreturn\u001b[0m \u001b[0m_start_process\u001b[0m\u001b[0;34m(\u001b[0m\u001b[0mpyngrok_config\u001b[0m\u001b[0;34m)\u001b[0m\u001b[0;34m\u001b[0m\u001b[0;34m\u001b[0m\u001b[0m\n\u001b[0m\u001b[1;32m    236\u001b[0m \u001b[0;34m\u001b[0m\u001b[0m\n\u001b[1;32m    237\u001b[0m \u001b[0;34m\u001b[0m\u001b[0m\n",
            "\u001b[0;32m/usr/local/lib/python3.10/dist-packages/pyngrok/process.py\u001b[0m in \u001b[0;36m_start_process\u001b[0;34m(pyngrok_config)\u001b[0m\n\u001b[1;32m    396\u001b[0m \u001b[0;34m\u001b[0m\u001b[0m\n\u001b[1;32m    397\u001b[0m         \u001b[0;32mif\u001b[0m \u001b[0mngrok_process\u001b[0m\u001b[0;34m.\u001b[0m\u001b[0mstartup_error\u001b[0m \u001b[0;32mis\u001b[0m \u001b[0;32mnot\u001b[0m \u001b[0;32mNone\u001b[0m\u001b[0;34m:\u001b[0m\u001b[0;34m\u001b[0m\u001b[0;34m\u001b[0m\u001b[0m\n\u001b[0;32m--> 398\u001b[0;31m             raise PyngrokNgrokError(f\"The ngrok process errored on start: {ngrok_process.startup_error}.\",\n\u001b[0m\u001b[1;32m    399\u001b[0m                                     \u001b[0mngrok_process\u001b[0m\u001b[0;34m.\u001b[0m\u001b[0mlogs\u001b[0m\u001b[0;34m,\u001b[0m\u001b[0;34m\u001b[0m\u001b[0;34m\u001b[0m\u001b[0m\n\u001b[1;32m    400\u001b[0m                                     ngrok_process.startup_error)\n",
            "\u001b[0;31mPyngrokNgrokError\u001b[0m: The ngrok process errored on start: authentication failed: Usage of ngrok requires a verified account and authtoken.\\n\\nSign up for an account: https://dashboard.ngrok.com/signup\\nInstall your authtoken: https://dashboard.ngrok.com/get-started/your-authtoken\\r\\n\\r\\nERR_NGROK_4018\\r\\n."
          ]
        }
      ]
    }
  ]
}